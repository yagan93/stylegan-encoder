{
  "nbformat": 4,
  "nbformat_minor": 0,
  "metadata": {
    "colab": {
      "name": "style_gan_representations_directions_mixing.ipynb",
      "provenance": []
    },
    "kernelspec": {
      "name": "python3",
      "display_name": "Python 3"
    },
    "language_info": {
      "name": "python"
    },
    "accelerator": "GPU"
  },
  "cells": [
    {
      "cell_type": "markdown",
      "metadata": {
        "id": "w-V8BpXzOA-U"
      },
      "source": [
        "\n",
        "![StyleGAN2 ADA](https://raw.githubusercontent.com/yagan93/stylegan-encoder/master/illustrations/stylegan2_ada.jpg)\n",
        "\n",
        "In 2018 Nvidia introduced StyleGAN [A Style-Based Generator Architecture for Generative Adversarial Networks](https://arxiv.org/abs/1812.04948). Shortly after they released StyleGAN2 [Analyzing and Improving the Image Quality of StyleGAN](https://arxiv.org/abs/1912.04958) where they removed various artifacts. About 9 months ago they published a third paper called StyleGAN2 ADA [Training Generative Adversarial Networks with Limited Data](https://arxiv.org/abs/2006.06676) where they proposed an adaptive\n",
        "discriminator augmentation mechanism that significantly stabilizes training in\n",
        "limited data regimes. The approach does not require changes to loss functions\n",
        "or network architectures, and is applicable both when training from scratch and when fine-tuning an existing GAN on another dataset. We demonstrate, on several datasets, that good results are now possible using only a few thousand training images, often matching StyleGAN2 results with an order of magnitude fewer images. They expect this to open up new application domains for GANs. Hereby, Nvidia released multiple pretrained networks as pickled instances available on [Google Drive](https://drive.google.com/drive/folders/1MASQyN5m0voPcx7-9K0r5gObhvvPups7).\n",
        "\n",
        "If you are not familiar with GANs in general I advise you to browse through the notebooks created by [Jeff Heaton](https://github.com/jeffheaton). Besides, there are multiple pages that give you a feeling of what a [Generator](https://www.thispersondoesnotexist.com/) and [Discriminator](http://www.whichfaceisreal.com/) feel like in action. This notebook is intended to adress topics such as applying trained latent directions and creating own latent representations of raw images. This based on a fork by [Spiorf](https://github.com/spiorf).\n",
        "\n",
        "\n",
        "\n",
        "\n",
        "\n",
        " \n"
      ]
    },
    {
      "cell_type": "markdown",
      "metadata": {
        "id": "QXXFeyG800tm"
      },
      "source": [
        "### Applying latent directions to representations\n",
        "First things first. **Clone the fork by yagan93** from github.\n"
      ]
    },
    {
      "cell_type": "code",
      "metadata": {
        "id": "LBZ1FaR7UOEY"
      },
      "source": [
        "# Forked from !git clone https://github.com/NVlabs/stylegan.git\n",
        "# Forked from !git clone https://github.com/Puzer/stylegan-encoder.git\n",
        "!git clone https://github.com/yagan93/stylegan-encoder.git stylegan"
      ],
      "execution_count": null,
      "outputs": []
    },
    {
      "cell_type": "markdown",
      "metadata": {
        "id": "gM-uAAkHW7Y2"
      },
      "source": [
        "Install the required dependencies and make sure this **instance runs on a GPU** (runtime - change runetime - select GPU). Double check with the command **!nvidia-smi**. If Colab requires you to **restart the notebook**, do so! "
      ]
    },
    {
      "cell_type": "code",
      "metadata": {
        "id": "ISATdNyvW65z"
      },
      "source": [
        "!pip3 uninstall tensorflow -y\n",
        "!pip3 install tensorflow==1.15.2\n",
        "!pip3 install keras==2.3.1\n",
        "!pip3 install tensorflow-gpu==1.14\n",
        "!nvidia-smi"
      ],
      "execution_count": null,
      "outputs": []
    },
    {
      "cell_type": "markdown",
      "metadata": {
        "id": "EnH3AFfaUQs5"
      },
      "source": [
        "Import the modules below. In case you run into **dnnlib/dnnlib.tflib errors**, affirm that the **correct tensorflow version is installed**."
      ]
    },
    {
      "cell_type": "code",
      "metadata": {
        "id": "xmBq_uEdUSzU"
      },
      "source": [
        "import sys\n",
        "sys.path.insert(0, \"/content/stylegan\")\n",
        "from tqdm.notebook import tqdm\n",
        "import pickle\n",
        "import torch\n",
        "import PIL.Image\n",
        "import matplotlib.pyplot as plt\n",
        "import numpy as np\n",
        "import stylegan.dnnlib.tflib as tflib\n",
        "import stylegan.config\n",
        "from stylegan.encoder.generator_model import Generator"
      ],
      "execution_count": null,
      "outputs": []
    },
    {
      "cell_type": "markdown",
      "metadata": {
        "id": "q5RvCBfreQUE"
      },
      "source": [
        "**Download the trained network** as pickle instance from the provided google drive. If you run into **google quota** errors, try again later or log into a different account.\n"
      ]
    },
    {
      "cell_type": "code",
      "metadata": {
        "id": "PD8ML6KZUTlF"
      },
      "source": [
        "URL_FFHQ = 'https://drive.google.com/uc?id=1MEGjdvVpUsu1jB4zrXZN7Y4kBBOzizDQ'\n",
        "tflib.init_tf()\n",
        "print(f'Loading networks from \"{URL_FFHQ}\"...')\n",
        "with stylegan.dnnlib.util.open_url(URL_FFHQ, cache_dir=stylegan.config.cache_dir) as f:\n",
        "    generator_network, discriminator_network, Gs_network = pickle.load(f)\n",
        "generator = Generator(Gs_network, batch_size=1, randomize_noise=False)"
      ],
      "execution_count": null,
      "outputs": []
    },
    {
      "cell_type": "markdown",
      "metadata": {
        "id": "TwHHJt_94-5I"
      },
      "source": [
        "Here's where the **fun begins**. For demonstration purposes we used the representations of trump and hillary. If you **keen on playing around with game of thrones characters** by [Iyaja](https://github.com/iyaja), go check out ffhq_dataset/latent_representations. Same goes for **latent directions** by [Spiorf](https://github.com/spiorf). You find them in the folder ffhq_dataset/latent_directions. You will notice that they are obviously biased."
      ]
    },
    {
      "cell_type": "code",
      "metadata": {
        "id": "Mv7UWCCGeQvS"
      },
      "source": [
        "def generate_image(latent_vector):\n",
        "  latent_vector = latent_vector.reshape((1, 18, 512))\n",
        "  generator.set_dlatents(latent_vector)\n",
        "  img_array = generator.generate_images()[0]\n",
        "  img = PIL.Image.fromarray(img_array, 'RGB')\n",
        "  return img.resize((256, 256))\n",
        "\n",
        "def move_and_show(latent_vector, direction, coeffs):\n",
        "  fig,ax = plt.subplots(1, len(coeffs), figsize=(15, 10), dpi=80)\n",
        "  for i, coeff in enumerate(coeffs):\n",
        "      new_latent_vector = latent_vector.copy()\n",
        "      new_latent_vector[:8] = (latent_vector + coeff*direction)[:8]\n",
        "      ax[i].imshow(generate_image(new_latent_vector))\n",
        "      ax[i].set_title('Coeff: %0.1f' % coeff)\n",
        "  [x.axis('off') for x in ax]\n",
        "  plt.show()\n",
        "\n",
        "def move_and_save(latent_vector, direction, coeffs):\n",
        "  for i, coeff in enumerate(coeffs):\n",
        "      new_latent_vector = latent_vector.copy()\n",
        "      new_latent_vector[:8] = (latent_vector + coeff*direction)[:8]\n",
        "      img = generate_image(new_latent_vector)\n",
        "      img.save(f'./picture_{i}.png')\n",
        "\n",
        "hillary_clinton = np.load('stylegan/ffhq_dataset/latent_representations/hillary_clinton_01.npy')\n",
        "donald_trump = np.load('stylegan/ffhq_dataset/latent_representations/donald_trump_01.npy')\n",
        "\n",
        "smile_direction = np.load('stylegan/ffhq_dataset/latent_directions/smile_direction.npy')\n",
        "facialhair_direction = np.load('stylegan/ffhq_dataset/latent_directions/facialhair_direction.npy')\n",
        "lipMakeup_direction = np.load('stylegan/ffhq_dataset/latent_directions/lipMakeup_direction.npy')\n",
        "disgust_direction = np.load('stylegan/ffhq_dataset/latent_directions/disgust_direction.npy')\n",
        "\n",
        "move_and_show(donald_trump, smile_direction, [-1, 0, 2])\n",
        "move_and_save(hillary_clinton, smile_direction, [-1, 0, 2])"
      ],
      "execution_count": null,
      "outputs": []
    },
    {
      "cell_type": "markdown",
      "metadata": {
        "id": "H9SQC_-wdRg_"
      },
      "source": [
        "### Generate own latent representations of raw images\n",
        "Create **all folders** needed for the following commands."
      ]
    },
    {
      "cell_type": "code",
      "metadata": {
        "id": "DsZFQcZxZxuj"
      },
      "source": [
        "!mkdir own_raw_images own_aligned_images own_generated_images own_latent_representations output"
      ],
      "execution_count": null,
      "outputs": []
    },
    {
      "cell_type": "markdown",
      "metadata": {
        "id": "MDddI7V_dSiO"
      },
      "source": [
        "**Upload your own images** (common formats) to ./raw_images and align them for further encoding. If you want to dig a bit deeper into the **alignment process** go check out the [blog](https://www.programmersought.com/article/31946614351/)\n",
        "on programmersought.com."
      ]
    },
    {
      "cell_type": "code",
      "metadata": {
        "id": "b9lP4DUFecEk"
      },
      "source": [
        "!python3 stylegan/align_images.py own_raw_images/ own_aligned_images/"
      ],
      "execution_count": null,
      "outputs": []
    },
    {
      "cell_type": "markdown",
      "metadata": {
        "id": "QZA8Pp8hegKv"
      },
      "source": [
        "**Encode aligned images** and generate representations. This may take a while!"
      ]
    },
    {
      "cell_type": "code",
      "metadata": {
        "id": "O0AQ86aBegXO"
      },
      "source": [
        "!python3 stylegan/encode_images.py own_aligned_images/ own_generated_images/ own_latent_representations/"
      ],
      "execution_count": null,
      "outputs": []
    },
    {
      "cell_type": "markdown",
      "metadata": {
        "id": "cpSKCu9y8vM-"
      },
      "source": [
        "**Adjust the np.load path** and replace YOUR_OWN_REPRESENTATION with the actual representation generated by the script stylegan/encode_images.py. You will find it in the folder own_latent_representations. **Smile**!"
      ]
    },
    {
      "cell_type": "code",
      "metadata": {
        "id": "zR5wgxt7ztyT"
      },
      "source": [
        "own_latent_representation = np.load('own_latent_representations/YOUR_OWN_REPRESENTATION.npy')\n",
        "\n",
        "smile_direction = np.load('stylegan/ffhq_dataset/latent_directions/smile_direction.npy')\n",
        "facialhair_direction = np.load('stylegan/ffhq_dataset/latent_directions/facialhair_direction.npy')\n",
        "lipMakeup_direction = np.load('stylegan/ffhq_dataset/latent_directions/lipMakeup_direction.npy')\n",
        "disgust_direction = np.load('stylegan/ffhq_dataset/latent_directions/disgust_direction.npy')\n",
        "\n",
        "move_and_show(own_latent_representation, smile_direction, [-1, 0, 2])"
      ],
      "execution_count": null,
      "outputs": []
    },
    {
      "cell_type": "markdown",
      "metadata": {
        "id": "XB9bLqz9-Xgo"
      },
      "source": [
        "The following code will **move between the provided coeffs** in the latent space, take a snapshot for each step and create a movie.mp4."
      ]
    },
    {
      "cell_type": "code",
      "metadata": {
        "id": "3yemg1jM7tjF"
      },
      "source": [
        "def latent_space_video(latent_vector, direction, source_coeff, target_coeff, steps, output_dir):\n",
        "  coeff_steps = (target_coeff-source_coeff)/steps if target_coeff>=source_coeff else (source_coeff-target_coeff)/steps\n",
        "  temp_latent_vector = latent_vector.copy()\n",
        "  idx = 0\n",
        "  for i in tqdm(range(steps), desc=f\"Step {idx}\"):\n",
        "    temp_latent_vector[:8] = (temp_latent_vector + coeff_steps*direction)[:8]\n",
        "    img = generate_image(temp_latent_vector)\n",
        "    img.save(f'{output_dir}/frame-{i}.png')\n",
        "    idx += 1\n",
        "  !ffmpeg -r 30 -i {output_dir}/frame-%d.png -vcodec mpeg4 -y {output_dir}/movie.mp4\n",
        "\n",
        "latent_space_video(own_latent_representation, smile_direction, -1, 1, 100, \"output\")"
      ],
      "execution_count": null,
      "outputs": []
    },
    {
      "cell_type": "markdown",
      "metadata": {
        "id": "-SUOpmbUAiTB"
      },
      "source": [
        "Apply **style mixing** between own_latent_representation (primary) and donald_trump (secondary)."
      ]
    },
    {
      "cell_type": "code",
      "metadata": {
        "id": "6Uq5_tKO0gCE"
      },
      "source": [
        "def draw_style_mixing_figure(png, Gs, w, h, src_dlatents, dst_dlatents, style_ranges):\n",
        "    print(png)\n",
        "    src_images = Gs.components.synthesis.run(src_dlatents, randomize_noise=False, **synthesis_kwargs)\n",
        "    dst_images = Gs.components.synthesis.run(dst_dlatents, randomize_noise=False, **synthesis_kwargs)\n",
        "\n",
        "    canvas = PIL.Image.new('RGB', (w * (len(src_dlatents) + 1), h * (len(dst_dlatents) + 1)), 'white')\n",
        "    for col, src_image in enumerate(list(src_images)):\n",
        "        canvas.paste(PIL.Image.fromarray(src_image, 'RGB'), ((col + 1) * w, 0))\n",
        "    for row, dst_image in enumerate(list(dst_images)):\n",
        "        canvas.paste(PIL.Image.fromarray(dst_image, 'RGB'), (0, (row + 1) * h))\n",
        "        row_dlatents = np.stack([dst_dlatents[row]] * len(src_dlatents))\n",
        "        row_dlatents[:, style_ranges[row]] = src_dlatents[:, style_ranges[row]]\n",
        "        row_images = Gs.components.synthesis.run(row_dlatents, randomize_noise=False, **synthesis_kwargs)\n",
        "        for col, image in enumerate(list(row_images)):\n",
        "            canvas.paste(PIL.Image.fromarray(image, 'RGB'), ((col + 1) * w, (row + 1) * h))\n",
        "    canvas.save(png)\n",
        "    return canvas.resize((512,512))\n",
        "\n",
        "\n",
        "synthesis_kwargs = dict(output_transform=dict(func=tflib.convert_images_to_uint8, nchw_to_nhwc=True), minibatch_size=1)\n",
        "_Gs_cache = dict()\n",
        "draw_style_mixing_figure('style-mixing.png', Gs_network, w=1024, h=1024, src_dlatents=donald_trump.reshape((1, 18, 512)), dst_dlatents=own_latent_representation.reshape((1, 18, 512)), style_ranges=[range(6,14)])"
      ],
      "execution_count": null,
      "outputs": []
    }
  ]
}